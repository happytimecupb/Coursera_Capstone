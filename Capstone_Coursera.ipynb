{
 "cells": [
  {
   "cell_type": "markdown",
   "metadata": {},
   "source": [
    "This is for Capstone Project on Coursera.  author: yang cao."
   ]
  },
  {
   "cell_type": "code",
   "execution_count": 5,
   "metadata": {},
   "outputs": [],
   "source": [
    "import pandas as pd\n",
    "import numpy as np"
   ]
  },
  {
   "cell_type": "code",
   "execution_count": 6,
   "metadata": {},
   "outputs": [
    {
     "name": "stdout",
     "output_type": "stream",
     "text": [
      "Hello Capstone Project Course!\n"
     ]
    }
   ],
   "source": [
    "print('Hello Capstone Project Course!')"
   ]
  },
  {
   "cell_type": "code",
   "execution_count": 1,
   "metadata": {},
   "outputs": [],
   "source": [
    "import httplib2\n",
    "from bs4 import BeautifulSoup, SoupStrainer\n",
    "import os\n",
    "import pandas as pd"
   ]
  },
  {
   "cell_type": "code",
   "execution_count": 11,
   "metadata": {},
   "outputs": [
    {
     "data": {
      "text/html": [
       "<div>\n",
       "<style scoped>\n",
       "    .dataframe tbody tr th:only-of-type {\n",
       "        vertical-align: middle;\n",
       "    }\n",
       "\n",
       "    .dataframe tbody tr th {\n",
       "        vertical-align: top;\n",
       "    }\n",
       "\n",
       "    .dataframe thead th {\n",
       "        text-align: right;\n",
       "    }\n",
       "</style>\n",
       "<table border=\"1\" class=\"dataframe\">\n",
       "  <thead>\n",
       "    <tr style=\"text-align: right;\">\n",
       "      <th></th>\n",
       "      <th>Postcode</th>\n",
       "      <th>Borough</th>\n",
       "      <th>Neighbourhood</th>\n",
       "    </tr>\n",
       "  </thead>\n",
       "  <tbody>\n",
       "    <tr>\n",
       "      <th>0</th>\n",
       "      <td>M1B</td>\n",
       "      <td>Scarborough</td>\n",
       "      <td>Rouge,Malvern</td>\n",
       "    </tr>\n",
       "    <tr>\n",
       "      <th>1</th>\n",
       "      <td>M1C</td>\n",
       "      <td>Scarborough</td>\n",
       "      <td>Highland Creek,Rouge Hill,Port Union</td>\n",
       "    </tr>\n",
       "    <tr>\n",
       "      <th>2</th>\n",
       "      <td>M1E</td>\n",
       "      <td>Scarborough</td>\n",
       "      <td>Guildwood,Morningside,West Hill</td>\n",
       "    </tr>\n",
       "    <tr>\n",
       "      <th>3</th>\n",
       "      <td>M1G</td>\n",
       "      <td>Scarborough</td>\n",
       "      <td>Woburn</td>\n",
       "    </tr>\n",
       "    <tr>\n",
       "      <th>4</th>\n",
       "      <td>M1H</td>\n",
       "      <td>Scarborough</td>\n",
       "      <td>Cedarbrae</td>\n",
       "    </tr>\n",
       "  </tbody>\n",
       "</table>\n",
       "</div>"
      ],
      "text/plain": [
       "0 Postcode      Borough                         Neighbourhood\n",
       "0      M1B  Scarborough                         Rouge,Malvern\n",
       "1      M1C  Scarborough  Highland Creek,Rouge Hill,Port Union\n",
       "2      M1E  Scarborough       Guildwood,Morningside,West Hill\n",
       "3      M1G  Scarborough                                Woburn\n",
       "4      M1H  Scarborough                             Cedarbrae"
      ]
     },
     "execution_count": 11,
     "metadata": {},
     "output_type": "execute_result"
    }
   ],
   "source": [
    "#request content from url.\n",
    "http = httplib2.Http()\n",
    "status, response = http.request('https://en.wikipedia.org/wiki/List_of_postal_codes_of_Canada:_M')\n",
    "\n",
    "#make soup.\n",
    "soup = BeautifulSoup(response, 'html.parser')\n",
    "\n",
    "#extract data from table.\n",
    "table = soup.find('table', {'class': 'wikitable sortable'})\n",
    "post_code = []\n",
    "borough =[]\n",
    "neighborhood = []\n",
    "for td in table.find_all('tr'):\n",
    "    pc, bg, nb = td.get_text().splitlines()[1:] \n",
    "    \n",
    "    if bg != \"Not assigned\":      #ignore borough of not assigned.\n",
    "        if nb == \"Not assigned\":  #if neighborhood not assigned, assign it as borough.\n",
    "            nb = bg     \n",
    "        post_code.append(pc)\n",
    "        borough.append(bg)\n",
    "        neighborhood.append(nb)\n",
    "        \n",
    "#store table data as dataframe.        \n",
    "df = pd.DataFrame(list(zip(post_code,borough,neighborhood)))  \n",
    "df.columns = df.iloc[0]                \n",
    "df = df[1:]\n",
    "\n",
    "#put neighborhoods with the same \"post_code\" and \"Borough\" together.\n",
    "g=df.groupby(['Postcode','Borough'])\n",
    "post_code=[]\n",
    "borough=[]\n",
    "neighborhood=[]\n",
    "for key, value in g.groups.items(): #g.groups is a dictionary.\n",
    "    post_code.append(key[0])        \n",
    "    borough.append(key[1])\n",
    "    temp = df.loc[value]\n",
    "    neighborhood.append(temp['Neighbourhood'].str.cat(sep=','))\n",
    "\n",
    "\n",
    "df1 = pd.DataFrame(list(zip(post_code,borough,neighborhood)))\n",
    "df1.columns=df.columns  #df1 is the final dataframe.\n",
    "\n",
    "#print output the top 5 rows.\n",
    "df1.head()"
   ]
  },
  {
   "cell_type": "code",
   "execution_count": 12,
   "metadata": {},
   "outputs": [
    {
     "name": "stdout",
     "output_type": "stream",
     "text": [
      "The shape of the dataframe is:  (103, 3)\n"
     ]
    }
   ],
   "source": [
    "print('The shape of the dataframe is: ', df1.shape)\n",
    "#df1.to_csv('data_updated.csv', index='False')"
   ]
  },
  {
   "cell_type": "code",
   "execution_count": null,
   "metadata": {},
   "outputs": [],
   "source": []
  }
 ],
 "metadata": {
  "kernelspec": {
   "display_name": "Python 3",
   "language": "python",
   "name": "python3"
  },
  "language_info": {
   "codemirror_mode": {
    "name": "ipython",
    "version": 3
   },
   "file_extension": ".py",
   "mimetype": "text/x-python",
   "name": "python",
   "nbconvert_exporter": "python",
   "pygments_lexer": "ipython3",
   "version": "3.7.3"
  }
 },
 "nbformat": 4,
 "nbformat_minor": 2
}
